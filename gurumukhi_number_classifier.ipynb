{
 "cells": [
  {
   "cell_type": "code",
   "execution_count": 10,
   "metadata": {
    "id": "SLclzWhbONfB"
   },
   "outputs": [],
   "source": [
    "from os import listdir\n",
    "import cv2\n",
    "import numpy as np\n",
    "from tensorflow import keras\n",
    "from math import exp"
   ]
  },
  {
   "cell_type": "code",
   "execution_count": 37,
   "metadata": {
    "id": "LNwvH5EyPd2I"
   },
   "outputs": [],
   "source": [
    "#reading the traing data\n",
    "x_train=[]\n",
    "y_train=[]\n",
    "x_test=[]\n",
    "y_test=[]\n",
    "\n",
    "for i in range(0,10):\n",
    "    label=[0,0,0,0,0,0,0,0,0,0]\n",
    "    label[i]=1\n",
    "    for j in range(1,101):\n",
    "        path=r'C:\\\\Users\\\\BASAB\\\\Downloads\\\\ML_PRACTICE\\\\ML_ASS_1\\\\train\\\\'+str(i)+'\\\\'+str(j)+'.bmp'\n",
    "        img = cv2.imread(path,0).flatten()\n",
    "        x_train.append(list(img/255))\n",
    "        y_train.append(label)\n",
    "\n",
    "    dir_path=r'C:\\\\Users\\\\BASAB\\\\Downloads\\\\ML_PRACTICE\\\\ML_ASS_1\\\\val\\\\'+str(i)\n",
    "    for im in listdir(dir_path):\n",
    "        tst_path=r'C:\\\\Users\\\\BASAB\\\\Downloads\\\\ML_PRACTICE\\\\ML_ASS_1\\\\val\\\\'+str(i)+'\\\\'+im\n",
    "        x_test.append(list(img/255))\n",
    "        y_test.append(label)\n",
    " "
   ]
  },
  {
   "cell_type": "code",
   "execution_count": 38,
   "metadata": {
    "id": "smuUEvjS_TDy"
   },
   "outputs": [],
   "source": [
    "model=keras.models.Sequential()\n",
    "model.add(keras.layers.Dense(512,activation='softmax'))\n",
    "model.add(keras.layers.Dense(10,activation='softmax'))\n",
    "model.compile(optimizer='adam',loss='categorical_crossentropy',metrics=['accuracy'])"
   ]
  },
  {
   "cell_type": "code",
   "execution_count": 39,
   "metadata": {
    "colab": {
     "base_uri": "https://localhost:8080/"
    },
    "id": "XTPGpvkgA9m5",
    "outputId": "f8ebad8d-5a23-49ff-e2d4-6e43c78a8fc9"
   },
   "outputs": [
    {
     "name": "stdout",
     "output_type": "stream",
     "text": [
      "Epoch 1/50\n",
      "32/32 [==============================] - 2s 34ms/step - loss: 2.2568 - accuracy: 0.5570 - val_loss: 2.2204 - val_accuracy: 0.8090\n",
      "Epoch 2/50\n",
      "32/32 [==============================] - 0s 10ms/step - loss: 2.1644 - accuracy: 0.8350 - val_loss: 2.1420 - val_accuracy: 0.8034\n",
      "Epoch 3/50\n",
      "32/32 [==============================] - 0s 11ms/step - loss: 2.0880 - accuracy: 0.8430 - val_loss: 2.0595 - val_accuracy: 0.9045\n",
      "Epoch 4/50\n",
      "32/32 [==============================] - 0s 10ms/step - loss: 2.0177 - accuracy: 0.8630 - val_loss: 2.0010 - val_accuracy: 0.9045\n",
      "Epoch 5/50\n",
      "32/32 [==============================] - 0s 10ms/step - loss: 1.9561 - accuracy: 0.8710 - val_loss: 1.9368 - val_accuracy: 0.9045\n",
      "Epoch 6/50\n",
      "32/32 [==============================] - 0s 10ms/step - loss: 1.9002 - accuracy: 0.8710 - val_loss: 1.8663 - val_accuracy: 0.9045\n",
      "Epoch 7/50\n",
      "32/32 [==============================] - 0s 12ms/step - loss: 1.8458 - accuracy: 0.8740 - val_loss: 1.8192 - val_accuracy: 0.9045\n",
      "Epoch 8/50\n",
      "32/32 [==============================] - 0s 14ms/step - loss: 1.7935 - accuracy: 0.8850 - val_loss: 1.7637 - val_accuracy: 0.9045\n",
      "Epoch 9/50\n",
      "32/32 [==============================] - 0s 15ms/step - loss: 1.7467 - accuracy: 0.8820 - val_loss: 1.7225 - val_accuracy: 0.9045\n",
      "Epoch 10/50\n",
      "32/32 [==============================] - 1s 16ms/step - loss: 1.6967 - accuracy: 0.8910 - val_loss: 1.6692 - val_accuracy: 0.9045\n",
      "Epoch 11/50\n",
      "32/32 [==============================] - 1s 16ms/step - loss: 1.6480 - accuracy: 0.8960 - val_loss: 1.6222 - val_accuracy: 0.9045\n",
      "Epoch 12/50\n",
      "32/32 [==============================] - 0s 15ms/step - loss: 1.6029 - accuracy: 0.8960 - val_loss: 1.5760 - val_accuracy: 0.9045\n",
      "Epoch 13/50\n",
      "32/32 [==============================] - 0s 12ms/step - loss: 1.5584 - accuracy: 0.8960 - val_loss: 1.5327 - val_accuracy: 0.9045\n",
      "Epoch 14/50\n",
      "32/32 [==============================] - 0s 10ms/step - loss: 1.5161 - accuracy: 0.8960 - val_loss: 1.4934 - val_accuracy: 0.9045\n",
      "Epoch 15/50\n",
      "32/32 [==============================] - 0s 11ms/step - loss: 1.4744 - accuracy: 0.8960 - val_loss: 1.4491 - val_accuracy: 0.9045\n",
      "Epoch 16/50\n",
      "32/32 [==============================] - 0s 10ms/step - loss: 1.4360 - accuracy: 0.8960 - val_loss: 1.4087 - val_accuracy: 0.9045\n",
      "Epoch 17/50\n",
      "32/32 [==============================] - 0s 10ms/step - loss: 1.3958 - accuracy: 0.8960 - val_loss: 1.3747 - val_accuracy: 0.9045\n",
      "Epoch 18/50\n",
      "32/32 [==============================] - 0s 10ms/step - loss: 1.3577 - accuracy: 0.8790 - val_loss: 1.3324 - val_accuracy: 1.0000\n",
      "Epoch 19/50\n",
      "32/32 [==============================] - 0s 10ms/step - loss: 1.3205 - accuracy: 0.8960 - val_loss: 1.2963 - val_accuracy: 0.9045\n",
      "Epoch 20/50\n",
      "32/32 [==============================] - 0s 10ms/step - loss: 1.2847 - accuracy: 0.8960 - val_loss: 1.2610 - val_accuracy: 0.9045\n",
      "Epoch 21/50\n",
      "32/32 [==============================] - 0s 10ms/step - loss: 1.2498 - accuracy: 0.8960 - val_loss: 1.2258 - val_accuracy: 0.9045\n",
      "Epoch 22/50\n",
      "32/32 [==============================] - 0s 12ms/step - loss: 1.2162 - accuracy: 0.8960 - val_loss: 1.1924 - val_accuracy: 0.9045\n",
      "Epoch 23/50\n",
      "32/32 [==============================] - 0s 10ms/step - loss: 1.1831 - accuracy: 0.8960 - val_loss: 1.1661 - val_accuracy: 0.9045\n",
      "Epoch 24/50\n",
      "32/32 [==============================] - 0s 11ms/step - loss: 1.1508 - accuracy: 0.8990 - val_loss: 1.1285 - val_accuracy: 0.9045\n",
      "Epoch 25/50\n",
      "32/32 [==============================] - 0s 12ms/step - loss: 1.1177 - accuracy: 0.8980 - val_loss: 1.0960 - val_accuracy: 0.9045\n",
      "Epoch 26/50\n",
      "32/32 [==============================] - 0s 10ms/step - loss: 1.0866 - accuracy: 0.8990 - val_loss: 1.0669 - val_accuracy: 0.9045\n",
      "Epoch 27/50\n",
      "32/32 [==============================] - 0s 10ms/step - loss: 1.0578 - accuracy: 0.8990 - val_loss: 1.0381 - val_accuracy: 0.9045\n",
      "Epoch 28/50\n",
      "32/32 [==============================] - 0s 10ms/step - loss: 1.0288 - accuracy: 0.8990 - val_loss: 1.0098 - val_accuracy: 0.9045\n",
      "Epoch 29/50\n",
      "32/32 [==============================] - 0s 10ms/step - loss: 1.0011 - accuracy: 0.8990 - val_loss: 0.9822 - val_accuracy: 0.9045\n",
      "Epoch 30/50\n",
      "32/32 [==============================] - 0s 11ms/step - loss: 0.9745 - accuracy: 0.8990 - val_loss: 0.9557 - val_accuracy: 0.9045\n",
      "Epoch 31/50\n",
      "32/32 [==============================] - 1s 17ms/step - loss: 0.9487 - accuracy: 0.8990 - val_loss: 0.9302 - val_accuracy: 0.9045\n",
      "Epoch 32/50\n",
      "32/32 [==============================] - 1s 16ms/step - loss: 0.9237 - accuracy: 0.8990 - val_loss: 0.9055 - val_accuracy: 0.9045\n",
      "Epoch 33/50\n",
      "32/32 [==============================] - 1s 16ms/step - loss: 0.8994 - accuracy: 0.8990 - val_loss: 0.8811 - val_accuracy: 0.9045\n",
      "Epoch 34/50\n",
      "32/32 [==============================] - 0s 15ms/step - loss: 0.8762 - accuracy: 0.8990 - val_loss: 0.8581 - val_accuracy: 0.9045\n",
      "Epoch 35/50\n",
      "32/32 [==============================] - 0s 15ms/step - loss: 0.8534 - accuracy: 0.8980 - val_loss: 0.8362 - val_accuracy: 0.9045\n",
      "Epoch 36/50\n",
      "32/32 [==============================] - 1s 16ms/step - loss: 0.8322 - accuracy: 0.8930 - val_loss: 0.8137 - val_accuracy: 0.9045\n",
      "Epoch 37/50\n",
      "32/32 [==============================] - 0s 14ms/step - loss: 0.8103 - accuracy: 0.8950 - val_loss: 0.7927 - val_accuracy: 0.9045\n",
      "Epoch 38/50\n",
      "32/32 [==============================] - 0s 11ms/step - loss: 0.7887 - accuracy: 0.8960 - val_loss: 0.7729 - val_accuracy: 0.9045\n",
      "Epoch 39/50\n",
      "32/32 [==============================] - 0s 11ms/step - loss: 0.7685 - accuracy: 0.9000 - val_loss: 0.7527 - val_accuracy: 0.9045\n",
      "Epoch 40/50\n",
      "32/32 [==============================] - 0s 11ms/step - loss: 0.7493 - accuracy: 0.9000 - val_loss: 0.7340 - val_accuracy: 0.9045\n",
      "Epoch 41/50\n",
      "32/32 [==============================] - 0s 10ms/step - loss: 0.7308 - accuracy: 0.9000 - val_loss: 0.7157 - val_accuracy: 0.9045\n",
      "Epoch 42/50\n",
      "32/32 [==============================] - 0s 12ms/step - loss: 0.7130 - accuracy: 0.9000 - val_loss: 0.6980 - val_accuracy: 0.9045\n",
      "Epoch 43/50\n",
      "32/32 [==============================] - 0s 11ms/step - loss: 0.6957 - accuracy: 0.9000 - val_loss: 0.6812 - val_accuracy: 0.9045\n",
      "Epoch 44/50\n",
      "32/32 [==============================] - 0s 11ms/step - loss: 0.6792 - accuracy: 0.8900 - val_loss: 0.6649 - val_accuracy: 0.9045\n",
      "Epoch 45/50\n",
      "32/32 [==============================] - 0s 11ms/step - loss: 0.6632 - accuracy: 0.9000 - val_loss: 0.6487 - val_accuracy: 0.9045\n",
      "Epoch 46/50\n",
      "32/32 [==============================] - 0s 11ms/step - loss: 0.6477 - accuracy: 0.8830 - val_loss: 0.6336 - val_accuracy: 0.9045\n",
      "Epoch 47/50\n",
      "32/32 [==============================] - 0s 11ms/step - loss: 0.6327 - accuracy: 0.9030 - val_loss: 0.6188 - val_accuracy: 0.9045\n",
      "Epoch 48/50\n",
      "32/32 [==============================] - 0s 10ms/step - loss: 0.6184 - accuracy: 0.9000 - val_loss: 0.6046 - val_accuracy: 0.9045\n",
      "Epoch 49/50\n",
      "32/32 [==============================] - 0s 10ms/step - loss: 0.6043 - accuracy: 0.9000 - val_loss: 0.5907 - val_accuracy: 0.9045\n",
      "Epoch 50/50\n",
      "32/32 [==============================] - 0s 10ms/step - loss: 0.5908 - accuracy: 0.9000 - val_loss: 0.5774 - val_accuracy: 0.9045\n"
     ]
    },
    {
     "data": {
      "text/plain": [
       "<keras.callbacks.History at 0x7efebf60c0d0>"
      ]
     },
     "execution_count": 39,
     "metadata": {},
     "output_type": "execute_result"
    }
   ],
   "source": [
    "model.fit(x_train,y_train,epochs=50,validation_data=(x_test,y_test))"
   ]
  },
  {
   "cell_type": "code",
   "execution_count": 1,
   "metadata": {
    "id": "hy9CzagKq9KI"
   },
   "outputs": [],
   "source": [
    "def predict_fun(image_path,w_b):\n",
    "    image=cv2.imread(image_path,0).flatten()/255\n",
    "    first_layer=[]\n",
    "    l1_w=w_b[0].transpose()\n",
    "    l1_b=w_b[1]\n",
    "    for i in range(len(l1_w)):\n",
    "        first_layer.append(exp(sum(l1_w[i]*image)+ l1_b[i]))\n",
    "    first_layer=np.array(first_layer)/sum(first_layer)\n",
    "    second_layer=[]\n",
    "    l2_w=w_b[2].transpose()\n",
    "    l2_b=w_b[3]\n",
    "    for i in range(len(l2_w)):\n",
    "        second_layer.append(exp(sum(l2_w[i]*first_layer)+ l2_b[i]))\n",
    "    second_layer=np.array(second_layer)/sum(second_layer)\n",
    "    second_layer=list(second_layer)\n",
    "    print(second_layer.index(max(second_layer)))\n",
    "\n"
   ]
  },
  {
   "cell_type": "code",
   "execution_count": 35,
   "metadata": {
    "id": "fqmavydWiWh7"
   },
   "outputs": [],
   "source": [
    "test_image_path=r'C:\\\\Users\\\\BASAB\\\\Downloads\\\\ML_PRACTICE\\\\val\\\\3\\1.tiff'"
   ]
  },
  {
   "cell_type": "code",
   "execution_count": 36,
   "metadata": {
    "colab": {
     "base_uri": "https://localhost:8080/"
    },
    "id": "zD_rvsdBihnR",
    "outputId": "249db23a-977a-4a12-a181-19436f2a0c8a"
   },
   "outputs": [
    {
     "name": "stdout",
     "output_type": "stream",
     "text": [
      "3\n"
     ]
    }
   ],
   "source": [
    "predict_fun(test_image_path,model.get_weights())"
   ]
  },
  {
   "cell_type": "code",
   "execution_count": null,
   "metadata": {
    "id": "AEO6nU4rsyR_"
   },
   "outputs": [],
   "source": []
  }
 ],
 "metadata": {
  "colab": {
   "provenance": []
  },
  "kernelspec": {
   "display_name": "Python 3 (ipykernel)",
   "language": "python",
   "name": "python3"
  },
  "language_info": {
   "codemirror_mode": {
    "name": "ipython",
    "version": 3
   },
   "file_extension": ".py",
   "mimetype": "text/x-python",
   "name": "python",
   "nbconvert_exporter": "python",
   "pygments_lexer": "ipython3",
   "version": "3.10.9"
  }
 },
 "nbformat": 4,
 "nbformat_minor": 1
}
